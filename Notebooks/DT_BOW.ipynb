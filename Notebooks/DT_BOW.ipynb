{
 "cells": [
  {
   "cell_type": "code",
   "execution_count": 2,
   "id": "ae27c308",
   "metadata": {},
   "outputs": [],
   "source": [
    "import numpy as np\n",
    "import pandas as pd\n",
    "from sklearn.model_selection import train_test_split, GridSearchCV\n",
    "from sklearn.tree import DecisionTreeClassifier\n",
    "from sklearn.feature_extraction.text import CountVectorizer, TfidfVectorizer\n",
    "from sklearn.metrics import accuracy_score, classification_report, confusion_matrix, balanced_accuracy_score\n",
    "import matplotlib.pyplot as plt\n",
    "import seaborn as sns\n",
    "import re\n",
    "import nltk\n",
    "from nltk.corpus import stopwords\n",
    "from nltk.tokenize import word_tokenize\n",
    "from nltk.stem import WordNetLemmatizer\n",
    "from sklearn.utils.class_weight import compute_class_weight\n",
    "import mlflow\n",
    "import mlflow.sklearn"
   ]
  },
  {
   "cell_type": "code",
   "execution_count": 3,
   "id": "c63ae6a7",
   "metadata": {},
   "outputs": [],
   "source": [
    "df = pd.read_csv(\"/root/mlops_projects/FinancialSentiment_prediction/Datasets/Financial_data.csv\")"
   ]
  },
  {
   "cell_type": "code",
   "execution_count": 4,
   "id": "52b10e63",
   "metadata": {},
   "outputs": [
    {
     "data": {
      "text/html": [
       "<div>\n",
       "<style scoped>\n",
       "    .dataframe tbody tr th:only-of-type {\n",
       "        vertical-align: middle;\n",
       "    }\n",
       "\n",
       "    .dataframe tbody tr th {\n",
       "        vertical-align: top;\n",
       "    }\n",
       "\n",
       "    .dataframe thead th {\n",
       "        text-align: right;\n",
       "    }\n",
       "</style>\n",
       "<table border=\"1\" class=\"dataframe\">\n",
       "  <thead>\n",
       "    <tr style=\"text-align: right;\">\n",
       "      <th></th>\n",
       "      <th>Sentence</th>\n",
       "      <th>Sentiment</th>\n",
       "    </tr>\n",
       "  </thead>\n",
       "  <tbody>\n",
       "    <tr>\n",
       "      <th>0</th>\n",
       "      <td>The GeoSolutions technology will leverage Bene...</td>\n",
       "      <td>neutral</td>\n",
       "    </tr>\n",
       "    <tr>\n",
       "      <th>1</th>\n",
       "      <td>$ESI on lows, down $1.50 to $2.50 BK a real po...</td>\n",
       "      <td>negative</td>\n",
       "    </tr>\n",
       "    <tr>\n",
       "      <th>2</th>\n",
       "      <td>For the last quarter of 2010 , Componenta 's n...</td>\n",
       "      <td>neutral</td>\n",
       "    </tr>\n",
       "    <tr>\n",
       "      <th>3</th>\n",
       "      <td>According to the Finnish-Russian Chamber of Co...</td>\n",
       "      <td>neutral</td>\n",
       "    </tr>\n",
       "    <tr>\n",
       "      <th>4</th>\n",
       "      <td>The Swedish buyout firm has sold its remaining...</td>\n",
       "      <td>neutral</td>\n",
       "    </tr>\n",
       "    <tr>\n",
       "      <th>5</th>\n",
       "      <td>$SPY wouldn't be surprised to see a green close</td>\n",
       "      <td>positive</td>\n",
       "    </tr>\n",
       "    <tr>\n",
       "      <th>6</th>\n",
       "      <td>Shell's $70 Billion BG Deal Meets Shareholder ...</td>\n",
       "      <td>neutral</td>\n",
       "    </tr>\n",
       "    <tr>\n",
       "      <th>7</th>\n",
       "      <td>SSH COMMUNICATIONS SECURITY CORP STOCK EXCHANG...</td>\n",
       "      <td>neutral</td>\n",
       "    </tr>\n",
       "    <tr>\n",
       "      <th>8</th>\n",
       "      <td>Kone 's net sales rose by some 14 % year-on-ye...</td>\n",
       "      <td>neutral</td>\n",
       "    </tr>\n",
       "    <tr>\n",
       "      <th>9</th>\n",
       "      <td>The Stockmann department store will have a tot...</td>\n",
       "      <td>neutral</td>\n",
       "    </tr>\n",
       "  </tbody>\n",
       "</table>\n",
       "</div>"
      ],
      "text/plain": [
       "                                            Sentence Sentiment\n",
       "0  The GeoSolutions technology will leverage Bene...   neutral\n",
       "1  $ESI on lows, down $1.50 to $2.50 BK a real po...  negative\n",
       "2  For the last quarter of 2010 , Componenta 's n...   neutral\n",
       "3  According to the Finnish-Russian Chamber of Co...   neutral\n",
       "4  The Swedish buyout firm has sold its remaining...   neutral\n",
       "5    $SPY wouldn't be surprised to see a green close  positive\n",
       "6  Shell's $70 Billion BG Deal Meets Shareholder ...   neutral\n",
       "7  SSH COMMUNICATIONS SECURITY CORP STOCK EXCHANG...   neutral\n",
       "8  Kone 's net sales rose by some 14 % year-on-ye...   neutral\n",
       "9  The Stockmann department store will have a tot...   neutral"
      ]
     },
     "execution_count": 4,
     "metadata": {},
     "output_type": "execute_result"
    }
   ],
   "source": [
    "df.head(10)"
   ]
  },
  {
   "cell_type": "code",
   "execution_count": 5,
   "id": "84e4f2aa",
   "metadata": {},
   "outputs": [
    {
     "data": {
      "text/plain": [
       "np.int64(520)"
      ]
     },
     "execution_count": 5,
     "metadata": {},
     "output_type": "execute_result"
    }
   ],
   "source": [
    "df.duplicated().sum()"
   ]
  },
  {
   "cell_type": "code",
   "execution_count": 6,
   "id": "2cc6eaa2",
   "metadata": {},
   "outputs": [],
   "source": [
    "df.drop_duplicates(keep=\"first\",inplace=True)"
   ]
  },
  {
   "cell_type": "code",
   "execution_count": 7,
   "id": "4bf55391",
   "metadata": {},
   "outputs": [],
   "source": [
    "# Map sentiments to numerical labels\n",
    "sentiment_map = {'positive': 2, 'neutral': 1, 'negative': 0}\n",
    "df['Sentiment'] = df['Sentiment'].map(sentiment_map)"
   ]
  },
  {
   "cell_type": "code",
   "execution_count": 8,
   "id": "5975a519",
   "metadata": {},
   "outputs": [
    {
     "data": {
      "text/html": [
       "<div>\n",
       "<style scoped>\n",
       "    .dataframe tbody tr th:only-of-type {\n",
       "        vertical-align: middle;\n",
       "    }\n",
       "\n",
       "    .dataframe tbody tr th {\n",
       "        vertical-align: top;\n",
       "    }\n",
       "\n",
       "    .dataframe thead th {\n",
       "        text-align: right;\n",
       "    }\n",
       "</style>\n",
       "<table border=\"1\" class=\"dataframe\">\n",
       "  <thead>\n",
       "    <tr style=\"text-align: right;\">\n",
       "      <th></th>\n",
       "      <th>Sentence</th>\n",
       "      <th>Sentiment</th>\n",
       "    </tr>\n",
       "  </thead>\n",
       "  <tbody>\n",
       "    <tr>\n",
       "      <th>0</th>\n",
       "      <td>The GeoSolutions technology will leverage Bene...</td>\n",
       "      <td>1</td>\n",
       "    </tr>\n",
       "    <tr>\n",
       "      <th>1</th>\n",
       "      <td>$ESI on lows, down $1.50 to $2.50 BK a real po...</td>\n",
       "      <td>0</td>\n",
       "    </tr>\n",
       "    <tr>\n",
       "      <th>2</th>\n",
       "      <td>For the last quarter of 2010 , Componenta 's n...</td>\n",
       "      <td>1</td>\n",
       "    </tr>\n",
       "    <tr>\n",
       "      <th>3</th>\n",
       "      <td>According to the Finnish-Russian Chamber of Co...</td>\n",
       "      <td>1</td>\n",
       "    </tr>\n",
       "    <tr>\n",
       "      <th>4</th>\n",
       "      <td>The Swedish buyout firm has sold its remaining...</td>\n",
       "      <td>1</td>\n",
       "    </tr>\n",
       "    <tr>\n",
       "      <th>5</th>\n",
       "      <td>$SPY wouldn't be surprised to see a green close</td>\n",
       "      <td>2</td>\n",
       "    </tr>\n",
       "    <tr>\n",
       "      <th>6</th>\n",
       "      <td>Shell's $70 Billion BG Deal Meets Shareholder ...</td>\n",
       "      <td>1</td>\n",
       "    </tr>\n",
       "    <tr>\n",
       "      <th>7</th>\n",
       "      <td>SSH COMMUNICATIONS SECURITY CORP STOCK EXCHANG...</td>\n",
       "      <td>1</td>\n",
       "    </tr>\n",
       "    <tr>\n",
       "      <th>8</th>\n",
       "      <td>Kone 's net sales rose by some 14 % year-on-ye...</td>\n",
       "      <td>1</td>\n",
       "    </tr>\n",
       "    <tr>\n",
       "      <th>9</th>\n",
       "      <td>The Stockmann department store will have a tot...</td>\n",
       "      <td>1</td>\n",
       "    </tr>\n",
       "  </tbody>\n",
       "</table>\n",
       "</div>"
      ],
      "text/plain": [
       "                                            Sentence  Sentiment\n",
       "0  The GeoSolutions technology will leverage Bene...          1\n",
       "1  $ESI on lows, down $1.50 to $2.50 BK a real po...          0\n",
       "2  For the last quarter of 2010 , Componenta 's n...          1\n",
       "3  According to the Finnish-Russian Chamber of Co...          1\n",
       "4  The Swedish buyout firm has sold its remaining...          1\n",
       "5    $SPY wouldn't be surprised to see a green close          2\n",
       "6  Shell's $70 Billion BG Deal Meets Shareholder ...          1\n",
       "7  SSH COMMUNICATIONS SECURITY CORP STOCK EXCHANG...          1\n",
       "8  Kone 's net sales rose by some 14 % year-on-ye...          1\n",
       "9  The Stockmann department store will have a tot...          1"
      ]
     },
     "execution_count": 8,
     "metadata": {},
     "output_type": "execute_result"
    }
   ],
   "source": [
    "df.head(10)"
   ]
  },
  {
   "cell_type": "code",
   "execution_count": 9,
   "id": "040c9f1d",
   "metadata": {},
   "outputs": [
    {
     "data": {
      "text/plain": [
       "(5322, 2)"
      ]
     },
     "execution_count": 9,
     "metadata": {},
     "output_type": "execute_result"
    }
   ],
   "source": [
    "df.shape"
   ]
  },
  {
   "cell_type": "code",
   "execution_count": 10,
   "id": "f707074d",
   "metadata": {},
   "outputs": [],
   "source": [
    "x = df[\"Sentence\"]\n",
    "y = df[\"Sentiment\"]\n",
    "X_train,X_test,y_train,y_test = train_test_split(x,y,test_size=0.2,random_state=42,stratify=y)"
   ]
  },
  {
   "cell_type": "code",
   "execution_count": 11,
   "id": "232893a8",
   "metadata": {},
   "outputs": [
    {
     "data": {
      "text/plain": [
       "(4257,)"
      ]
     },
     "execution_count": 11,
     "metadata": {},
     "output_type": "execute_result"
    }
   ],
   "source": [
    "X_train.shape"
   ]
  },
  {
   "cell_type": "code",
   "execution_count": 12,
   "id": "20113e0a",
   "metadata": {},
   "outputs": [
    {
     "name": "stdout",
     "output_type": "stream",
     "text": [
      "1905    CompaniesActelion shares hit record on Shire t...\n",
      "2764    The investment will be worth approximately EUR...\n",
      "194     Stora is due to release its fourth-quarter and...\n",
      "3600    Fiskars , a 360-year-old global business best ...\n",
      "5271    Finland 's leading metals group Outokumpu said...\n",
      "                              ...                        \n",
      "5729    Most of the dividend will go to the Grimaldi f...\n",
      "2408    The Estonian electronic components factory , E...\n",
      "1473    The period 's sales dropped to EUR 30.6 millio...\n",
      "1371                                     $WYNN big bounce\n",
      "2157    In a letter to Economic Affairs Minister , the...\n",
      "Name: Sentence, Length: 4257, dtype: object\n"
     ]
    }
   ],
   "source": [
    "print(X_train)"
   ]
  },
  {
   "cell_type": "code",
   "execution_count": 13,
   "id": "8040b8d0",
   "metadata": {},
   "outputs": [
    {
     "name": "stderr",
     "output_type": "stream",
     "text": [
      "[nltk_data] Downloading package averaged_perceptron_tagger_eng to\n",
      "[nltk_data]     /root/nltk_data...\n",
      "[nltk_data]   Package averaged_perceptron_tagger_eng is already up-to-\n",
      "[nltk_data]       date!\n"
     ]
    },
    {
     "data": {
      "text/plain": [
       "True"
      ]
     },
     "execution_count": 13,
     "metadata": {},
     "output_type": "execute_result"
    }
   ],
   "source": [
    "import nltk\n",
    "nltk.download('averaged_perceptron_tagger_eng')\n",
    "  "
   ]
  },
  {
   "cell_type": "code",
   "execution_count": 14,
   "id": "719466c5",
   "metadata": {},
   "outputs": [],
   "source": [
    "from nlpaug import Augmenter\n",
    "import nlpaug.augmenter.word as naw\n",
    "aug =naw.SynonymAug(aug_src='wordnet')\n",
    "\n",
    "#augment only minority classes\n",
    "for label in [0,2]:\n",
    "    class_samples = X_train[y_train == label]\n",
    "    for text in class_samples[:int(0.5*len(class_samples))]:\n",
    "        augumented = aug.augment(text)\n",
    "        X_train = np.append(X_train,augumented)\n",
    "        y_train = np.append(y_train,label)"
   ]
  },
  {
   "cell_type": "code",
   "execution_count": 15,
   "id": "41511505",
   "metadata": {},
   "outputs": [
    {
     "name": "stdout",
     "output_type": "stream",
     "text": [
      "X_train length : 4991\n",
      "y_train length : 4991\n"
     ]
    }
   ],
   "source": [
    "print(\"X_train length :\",X_train.size)\n",
    "print(\"y_train length :\",y_train.size)"
   ]
  },
  {
   "cell_type": "code",
   "execution_count": 16,
   "id": "91d4b791",
   "metadata": {},
   "outputs": [
    {
     "name": "stderr",
     "output_type": "stream",
     "text": [
      "[nltk_data] Downloading package punkt_tab to /root/nltk_data...\n",
      "[nltk_data]   Package punkt_tab is already up-to-date!\n"
     ]
    },
    {
     "data": {
      "text/plain": [
       "True"
      ]
     },
     "execution_count": 16,
     "metadata": {},
     "output_type": "execute_result"
    }
   ],
   "source": [
    "import nltk\n",
    "nltk.download('punkt_tab')"
   ]
  },
  {
   "cell_type": "code",
   "execution_count": 17,
   "id": "0b6fe7c8",
   "metadata": {},
   "outputs": [],
   "source": [
    "# Enhanced text preprocessing\n",
    "def preprocess_text(text):\n",
    "    text = text.lower()\n",
    "    text = re.sub(r'http\\S+|[^a-zA-Z\\s]', '', text)\n",
    "    tokens = word_tokenize(text)\n",
    "    lemmatizer = WordNetLemmatizer()\n",
    "    tokens = [lemmatizer.lemmatize(word) for word in tokens]\n",
    "    stop_words = set(stopwords.words('english')) - {'not', 'no', 'but', 'never', 'very', 'above', 'below', 'up', 'down', 'over','very', 'bullish', 'bearish', 'buy', 'sell', 'strong', 'weak'}\n",
    "    #stop_words.update(['$', '%', '&', '@'])\n",
    "    tokens = [word for word in tokens if word not in stop_words and len(word) > 1]\n",
    "    return ' '.join(tokens)"
   ]
  },
  {
   "cell_type": "code",
   "execution_count": 18,
   "id": "d902b092",
   "metadata": {},
   "outputs": [],
   "source": [
    "X_train = pd.Series(X_train)\n",
    "X_train = X_train.apply(preprocess_text)"
   ]
  },
  {
   "cell_type": "code",
   "execution_count": 19,
   "id": "22f0e26a",
   "metadata": {},
   "outputs": [],
   "source": [
    "X_test = X_test.apply(preprocess_text)"
   ]
  },
  {
   "cell_type": "code",
   "execution_count": 20,
   "id": "7cfde4da",
   "metadata": {},
   "outputs": [
    {
     "name": "stdout",
     "output_type": "stream",
     "text": [
      "0       companiesactelion share hit record shire takeo...\n",
      "1                   investment worth approximately eur mn\n",
      "2       stora due release fourthquarter fullyear earni...\n",
      "3       fiskars yearold global business best known ora...\n",
      "4       finland leading metal group outokumpu said fou...\n",
      "                              ...                        \n",
      "4986    finnish financial group aktia operating net pr...\n",
      "4987    joerazorback time ane mean aapl miss generally...\n",
      "4988    finnish rautaruukki ha awarded contract bridge...\n",
      "4989    asking finnish medium company alma medium news...\n",
      "4990    finnish investing chemical group neomarkka oyj...\n",
      "Length: 4991, dtype: object\n"
     ]
    }
   ],
   "source": [
    "print(X_train)"
   ]
  },
  {
   "cell_type": "code",
   "execution_count": 21,
   "id": "0558b193",
   "metadata": {},
   "outputs": [],
   "source": [
    "mlflow.set_tracking_uri(\"http://ec2-43-205-211-96.ap-south-1.compute.amazonaws.com:5000/\")"
   ]
  },
  {
   "cell_type": "code",
   "execution_count": null,
   "id": "c1b4223d",
   "metadata": {},
   "outputs": [],
   "source": [
    "# def train_evaluate_dt(vectorizer, vectorizer_name):\n",
    "#     X_train_vec = vectorizer.fit_transform(X_train)\n",
    "#     X_test_vec = vectorizer.transform(X_test)\n",
    "    \n",
    "#     # Grid search for hyperparameter tuning\n",
    "#     param_grid = {\n",
    "#         'max_depth': [5, 10, 20, None],\n",
    "#         'min_samples_split': [2, 5, 10],\n",
    "#         'min_samples_leaf': [1, 2, 4]\n",
    "#     }\n",
    "#     dt_model = DecisionTreeClassifier(random_state=42)\n",
    "#     grid_search = GridSearchCV(dt_model, param_grid, cv=5, scoring='balanced_accuracy', n_jobs=4)\n",
    "#     grid_search.fit(X_train_vec, y_train)\n",
    "    \n",
    "#     # Best model\n",
    "#     best_dt = grid_search.best_estimator_\n",
    "#     print(f\"\\nBest parameters for {vectorizer_name}: {grid_search.best_params_}\")\n",
    "    \n",
    "#     # Predict\n",
    "#     y_pred = best_dt.predict(X_test_vec)\n",
    "    \n",
    "#     # Evaluate\n",
    "#     accuracy = accuracy_score(y_test, y_pred)\n",
    "#     balanced_acc = balanced_accuracy_score(y_test, y_pred)\n",
    "#     print(f\"\\nResults for {vectorizer_name}:\")\n",
    "#     print(f\"Accuracy: {accuracy:.4f}\")\n",
    "#     print(f\"Balanced Accuracy: {balanced_acc:.4f}\")\n",
    "#     print(\"\\nClassification Report:\")\n",
    "#     print(classification_report(y_test, y_pred, target_names=['negative', 'neutral', 'positive']))\n",
    "    \n",
    "#     # Confusion matrix\n",
    "#     cm = confusion_matrix(y_test, y_pred)\n",
    "#     plt.figure(figsize=(8, 6))\n",
    "#     sns.heatmap(cm, annot=True, fmt='d', cmap='Blues', xticklabels=['negative', 'neutral', 'positive'], yticklabels=['negative', 'neutral', 'positive'])\n",
    "#     plt.title(f'Confusion Matrix - {vectorizer_name}')\n",
    "#     plt.xlabel('Predicted')\n",
    "#     plt.ylabel('True')\n",
    "#     plt.show()\n",
    "#     # Feature importance\n",
    "#     feature_importance = pd.DataFrame({\n",
    "#         'feature': vectorizer.get_feature_names_out(),\n",
    "#         'importance': best_dt.feature_importances_\n",
    "#     }).sort_values(by='importance', ascending=False).head(10)\n",
    "#     print(f\"\\nTop 10 important features for {vectorizer_name}:\")\n",
    "#     print(feature_importance)\n",
    "    \n",
    "#     return best_dt, vectorizer"
   ]
  },
  {
   "cell_type": "code",
   "execution_count": 22,
   "id": "453f3fab",
   "metadata": {},
   "outputs": [
    {
     "name": "stdout",
     "output_type": "stream",
     "text": [
      "Experiment name :DecissionTree_model and id:393294509303202776\n",
      "Experiment name :Sentiment_Analysis_LSTM_TFIDF and id:887211302989745420\n",
      "Experiment name :ML_model_dataaug and id:918242205499858319\n",
      "Experiment name :baseline_ML_model and id:408458959843314322\n",
      "Experiment name :Navie_bayes_experiment and id:639483181163671325\n",
      "Experiment name :Default and id:0\n"
     ]
    }
   ],
   "source": [
    "from mlflow.tracking import MlflowClient \n",
    "client = MlflowClient()\n",
    "\n",
    "# Get all experiments (returns List[Experiment])\n",
    "experiments_id = client.search_experiments()\n",
    "\n",
    "for exp in experiments_id:\n",
    "    print(f\"Experiment name :{exp.name} and id:{exp.experiment_id}\")"
   ]
  },
  {
   "cell_type": "code",
   "execution_count": 23,
   "id": "e8f72a16",
   "metadata": {},
   "outputs": [
    {
     "data": {
      "text/plain": [
       "<Experiment: artifact_location='s3://s3bucmlflow/393294509303202776', creation_time=1757419367471, experiment_id='393294509303202776', last_update_time=1757419367471, lifecycle_stage='active', name='DecissionTree_model', tags={}>"
      ]
     },
     "execution_count": 23,
     "metadata": {},
     "output_type": "execute_result"
    }
   ],
   "source": [
    "mlflow.set_experiment(experiment_name=\"DecissionTree_model\")"
   ]
  },
  {
   "cell_type": "code",
   "execution_count": 24,
   "id": "0858ed02",
   "metadata": {},
   "outputs": [],
   "source": [
    "def train_evaluate_dt(vectorizer, vectorizer_name):\n",
    "    # Start an MLflow run\n",
    "    with mlflow.start_run():\n",
    "        # Log the vectorizer name as a parameter\n",
    "        mlflow.log_param(\"vectorizer_name\", vectorizer_name)\n",
    "\n",
    "        X_train_vec = vectorizer.fit_transform(X_train)\n",
    "        X_test_vec = vectorizer.transform(X_test)\n",
    "        \n",
    "        # Grid search for hyperparameter tuning\n",
    "        param_grid = {\n",
    "            'max_depth': [5, 10, 20, None],\n",
    "            'min_samples_split': [2, 5, 10],\n",
    "            'min_samples_leaf': [1, 2, 4]\n",
    "        }\n",
    "        dt_model = DecisionTreeClassifier(random_state=42)\n",
    "        grid_search = GridSearchCV(dt_model, param_grid, cv=5, scoring='balanced_accuracy', n_jobs=4)\n",
    "        grid_search.fit(X_train_vec, y_train)\n",
    "        \n",
    "        # Best model\n",
    "        best_dt = grid_search.best_estimator_\n",
    "        print(f\"\\nBest parameters for {vectorizer_name}: {grid_search.best_params_}\")\n",
    "        \n",
    "        # Log the best hyperparameters from the grid search\n",
    "        mlflow.log_params(grid_search.best_params_)\n",
    "\n",
    "        # Predict\n",
    "        y_pred = best_dt.predict(X_test_vec)\n",
    "        \n",
    "        # Evaluate\n",
    "        accuracy = accuracy_score(y_test, y_pred)\n",
    "        balanced_acc = balanced_accuracy_score(y_test, y_pred)\n",
    "        \n",
    "        # Log the evaluation metrics\n",
    "        mlflow.log_metric(\"accuracy\", accuracy)\n",
    "        mlflow.log_metric(\"balanced_accuracy\", balanced_acc)\n",
    "\n",
    "        print(f\"\\nResults for {vectorizer_name}:\")\n",
    "        print(f\"Accuracy: {accuracy:.4f}\")\n",
    "        print(f\"Balanced Accuracy: {balanced_acc:.4f}\")\n",
    "        print(\"\\nClassification Report:\")\n",
    "        print(classification_report(y_test, y_pred, target_names=['negative', 'neutral', 'positive']))\n",
    "\n",
    "        # Log classification report as an artifact\n",
    "        report_dict = classification_report(y_test, y_pred, output_dict=True, target_names=['negative', 'neutral', 'positive'])\n",
    "        report_df = pd.DataFrame(report_dict).transpose()\n",
    "        report_df.to_csv(\"classification_report.csv\")\n",
    "        mlflow.log_artifact(\"classification_report.csv\")\n",
    "\n",
    "        # Confusion matrix\n",
    "        cm = confusion_matrix(y_test, y_pred)\n",
    "        plt.figure(figsize=(8, 6))\n",
    "        sns.heatmap(cm, annot=True, fmt='d', cmap='Blues', xticklabels=['negative', 'neutral', 'positive'], yticklabels=['negative', 'neutral', 'positive'])\n",
    "        plt.title(f'Confusion Matrix - {vectorizer_name}')\n",
    "        plt.xlabel('Predicted')\n",
    "        plt.ylabel('True')\n",
    "        plt.savefig(f\"confusion_matrix_{vectorizer_name}.png\") # Save figure\n",
    "        plt.show()\n",
    "\n",
    "        # Log the confusion matrix plot as an artifact\n",
    "        mlflow.log_artifact(f\"confusion_matrix_{vectorizer_name}.png\")\n",
    "\n",
    "        # Feature importance\n",
    "        feature_importance = pd.DataFrame({\n",
    "            'feature': vectorizer.get_feature_names_out(),\n",
    "            'importance': best_dt.feature_importances_\n",
    "        }).sort_values(by='importance', ascending=False).head(10)\n",
    "        \n",
    "        # Log feature importance as an artifact\n",
    "        feature_importance.to_csv(\"feature_importance.csv\", index=False)\n",
    "        mlflow.log_artifact(\"feature_importance.csv\")\n",
    "\n",
    "        print(f\"\\nTop 10 important features for {vectorizer_name}:\")\n",
    "        print(feature_importance)\n",
    "\n",
    "        # Log the model\n",
    "        mlflow.sklearn.log_model(best_dt, \"decision_tree_model\")\n",
    "        \n",
    "        # Log the vectorizer as an artifact or another model component\n",
    "        mlflow.sklearn.log_model(vectorizer, \"vectorizer\")\n",
    "\n",
    "    return best_dt, vectorizer"
   ]
  },
  {
   "cell_type": "code",
   "execution_count": null,
   "id": "7d430520",
   "metadata": {},
   "outputs": [
    {
     "name": "stdout",
     "output_type": "stream",
     "text": [
      "Training Decision Tree with Bag of Words...\n",
      "\n",
      "Best parameters for Bag of Words: {'max_depth': None, 'min_samples_leaf': 1, 'min_samples_split': 2}\n",
      "\n",
      "Results for Bag of Words:\n",
      "Accuracy: 0.9211\n",
      "Balanced Accuracy: 0.9009\n",
      "\n",
      "Classification Report:\n",
      "              precision    recall  f1-score   support\n",
      "\n",
      "    negative       0.74      0.86      0.79        76\n",
      "     neutral       0.95      0.93      0.94       697\n",
      "    positive       0.91      0.92      0.91       292\n",
      "\n",
      "    accuracy                           0.92      1065\n",
      "   macro avg       0.87      0.90      0.88      1065\n",
      "weighted avg       0.92      0.92      0.92      1065\n",
      "\n"
     ]
    },
    {
     "data": {
      "image/png": "[encoded data removed]",
      "text/plain": [
       "<Figure size 800x600 with 2 Axes>"
      ]
     },
     "metadata": {},
     "output_type": "display_data"
    },
    {
     "name": "stderr",
     "output_type": "stream",
     "text": [
      "2025/09/09 17:46:55 WARNING mlflow.models.model: `artifact_path` is deprecated. Please use `name` instead.\n"
     ]
    },
    {
     "name": "stdout",
     "output_type": "stream",
     "text": [
      "\n",
      "Top 10 important features for Bag of Words:\n",
      "        feature  importance\n",
      "1107      group    0.088332\n",
      "2832         up    0.073684\n",
      "680        down    0.051103\n",
      "1471       loss    0.048327\n",
      "2089     profit    0.045710\n",
      "1242   increase    0.036441\n",
      "1117     growth    0.028302\n",
      "611   decreased    0.025096\n",
      "2622     supply    0.021857\n",
      "1245  increased    0.020869\n"
     ]
    },
    {
     "name": "stderr",
     "output_type": "stream",
     "text": [
      "\u001b[31m2025/09/09 17:47:05 WARNING mlflow.models.model: Model logged without a signature and input example. Please set `input_example` parameter when logging the model to auto infer the model signature.\u001b[0m\n",
      "2025/09/09 17:47:06 WARNING mlflow.models.model: `artifact_path` is deprecated. Please use `name` instead.\n",
      "2025/09/09 17:47:06 WARNING mlflow.sklearn: Model was missing function: predict. Not logging python_function flavor!\n",
      "\u001b[31m2025/09/09 17:47:09 WARNING mlflow.models.model: Model logged without a signature and input example. Please set `input_example` parameter when logging the model to auto infer the model signature.\u001b[0m\n"
     ]
    },
    {
     "name": "stdout",
     "output_type": "stream",
     "text": [
      "🏃 View run youthful-ant-633 at: http://ec2-43-205-211-96.ap-south-1.compute.amazonaws.com:5000/#/experiments/393294509303202776/runs/4c10ce7ff5a34a73b68f1c51bacd50ba\n",
      "🧪 View experiment at: http://ec2-43-205-211-96.ap-south-1.compute.amazonaws.com:5000/#/experiments/393294509303202776\n"
     ]
    }
   ],
   "source": [
    "# Bag of Words (BoW)\n",
    "bow_vectorizer = CountVectorizer(max_features=3000, ngram_range=(1, 2), min_df=1, max_df=0.8)\n",
    "print(\"Training Decision Tree with Bag of Words...\")\n",
    "dt_bow, bow_vec = train_evaluate_dt(bow_vectorizer, \"Bag of Words\")"
   ]
  },
  {
   "cell_type": "code",
   "execution_count": 26,
   "id": "44708c94",
   "metadata": {},
   "outputs": [
    {
     "name": "stdout",
     "output_type": "stream",
     "text": [
      "\n",
      "Training Decision Tree with TF-IDF...\n",
      "\n",
      "Best parameters for TF-IDF: {'max_depth': None, 'min_samples_leaf': 1, 'min_samples_split': 2}\n",
      "\n",
      "Results for TF-IDF:\n",
      "Accuracy: 0.9136\n",
      "Balanced Accuracy: 0.8899\n",
      "\n",
      "Classification Report:\n",
      "              precision    recall  f1-score   support\n",
      "\n",
      "    negative       0.72      0.83      0.77        76\n",
      "     neutral       0.95      0.92      0.93       697\n",
      "    positive       0.89      0.92      0.91       292\n",
      "\n",
      "    accuracy                           0.91      1065\n",
      "   macro avg       0.85      0.89      0.87      1065\n",
      "weighted avg       0.92      0.91      0.91      1065\n",
      "\n"
     ]
    },
    {
     "data": {
      "image/png": "[encoded data removed]",
      "text/plain": [
       "<Figure size 800x600 with 2 Axes>"
      ]
     },
     "metadata": {},
     "output_type": "display_data"
    },
    {
     "name": "stderr",
     "output_type": "stream",
     "text": [
      "2025/09/09 17:50:57 WARNING mlflow.models.model: `artifact_path` is deprecated. Please use `name` instead.\n"
     ]
    },
    {
     "name": "stdout",
     "output_type": "stream",
     "text": [
      "\n",
      "Top 10 important features for TF-IDF:\n",
      "        feature  importance\n",
      "1850      group    0.088300\n",
      "4720         up    0.074028\n",
      "1175       down    0.052182\n",
      "2555       loss    0.047732\n",
      "3439     profit    0.046019\n",
      "2122   increase    0.036399\n",
      "1877     growth    0.028316\n",
      "1047  decreased    0.024446\n",
      "4386     supply    0.021832\n",
      "4389    support    0.019673\n"
     ]
    },
    {
     "name": "stderr",
     "output_type": "stream",
     "text": [
      "\u001b[31m2025/09/09 17:51:01 WARNING mlflow.models.model: Model logged without a signature and input example. Please set `input_example` parameter when logging the model to auto infer the model signature.\u001b[0m\n",
      "2025/09/09 17:51:02 WARNING mlflow.models.model: `artifact_path` is deprecated. Please use `name` instead.\n",
      "2025/09/09 17:51:02 WARNING mlflow.sklearn: Model was missing function: predict. Not logging python_function flavor!\n",
      "\u001b[31m2025/09/09 17:51:05 WARNING mlflow.models.model: Model logged without a signature and input example. Please set `input_example` parameter when logging the model to auto infer the model signature.\u001b[0m\n"
     ]
    },
    {
     "name": "stdout",
     "output_type": "stream",
     "text": [
      "🏃 View run shivering-donkey-912 at: http://ec2-43-205-211-96.ap-south-1.compute.amazonaws.com:5000/#/experiments/393294509303202776/runs/fe43a9541d32455da6cced2478cad976\n",
      "🧪 View experiment at: http://ec2-43-205-211-96.ap-south-1.compute.amazonaws.com:5000/#/experiments/393294509303202776\n"
     ]
    }
   ],
   "source": [
    "# TF-IDF\n",
    "tfidf_vectorizer = TfidfVectorizer(max_features=5000, ngram_range=(1, 2), min_df=1, max_df=0.8)\n",
    "print(\"\\nTraining Decision Tree with TF-IDF...\")\n",
    "dt_tfidf, tfidf_vec = train_evaluate_dt(tfidf_vectorizer, \"TF-IDF\")"
   ]
  }
 ],
 "metadata": {
  "kernelspec": {
   "display_name": "fin_ops",
   "language": "python",
   "name": "python3"
  },
  "language_info": {
   "codemirror_mode": {
    "name": "ipython",
    "version": 3
   },
   "file_extension": ".py",
   "mimetype": "text/x-python",
   "name": "python",
   "nbconvert_exporter": "python",
   "pygments_lexer": "ipython3",
   "version": "3.10.12"
  }
 },
 "nbformat": 4,
 "nbformat_minor": 5
}
